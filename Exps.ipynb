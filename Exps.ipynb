{
 "cells": [
  {
   "cell_type": "code",
   "execution_count": 1,
   "id": "19aba50b",
   "metadata": {},
   "outputs": [],
   "source": [
    "import implementations as imp\n",
    "import numpy as np\n",
    "import matplotlib.pyplot as plt\n",
    "%matplotlib inline"
   ]
  },
  {
   "cell_type": "code",
   "execution_count": 2,
   "id": "e5eb72e4",
   "metadata": {},
   "outputs": [],
   "source": [
    "a = np.random.random(16)\n",
    "b = np.random.random(12)"
   ]
  },
  {
   "cell_type": "code",
   "execution_count": 3,
   "id": "aa353fef",
   "metadata": {},
   "outputs": [],
   "source": [
    "def fast_multi(a,b):\n",
    "    ''' Input \n",
    "        A: a0 a1 a2 ... a(n-2) a(m-1)\n",
    "        B: b0 b1 b2 ... b(m-2) b(n-1)\n",
    "        Returns:\n",
    "        C: c0 c1 c2 ... c(m+n-2) c(m+n-1) which is A*B (convolution)'''\n",
    "    # The below code padds a,b with required number of 0's\n",
    "    m = len(a)\n",
    "    n = len(b)\n",
    "    l = m + n\n",
    "    n_l = 2**int(np.ceil(np.log(l)/np.log(2)))\n",
    "    a_p2 = np.concatenate((a, np.zeros(n_l-m)))\n",
    "    b_p2 = np.concatenate((b ,np.zeros(n_l-n)))\n",
    "    \n",
    "    y_a = np.fft.fft(a_p2)\n",
    "    y_b = np.fft.fft(b_p2)\n",
    "    y_c = [y_a[i] * y_b[i] for i in range(n_l)]\n",
    "    \n",
    "    C = np.fft.ifft(y_c)\n",
    "    return C"
   ]
  },
  {
   "cell_type": "code",
   "execution_count": 13,
   "id": "cca177c0",
   "metadata": {},
   "outputs": [],
   "source": [
    "def elementry_multi(A,B):\n",
    "    ''' Input \n",
    "        A: a0 a1 a2 ... a(n-2) a(m-1)\n",
    "        B: b0 b1 b2 ... b(m-2) b(n-1)\n",
    "        Returns:\n",
    "        C: c0 c1 c2 ... c(m+n-2) c(m+n-1) which is A*B (convolution)'''\n",
    "    n = len(A)\n",
    "    m = len(B)\n",
    "    print(m,n)\n",
    "    l = m + n    #The number of values in C \n",
    "    n_l = 2**int(np.ceil(np.log(l)/np.log(2)))\n",
    "    C = [0 for i in range(n_l)]\n",
    "    for i in range(n):\n",
    "        for j in range(m):\n",
    "            C[i+j] += A[i]*B[j]\n",
    "        \n",
    "    return C"
   ]
  },
  {
   "cell_type": "code",
   "execution_count": 14,
   "id": "557710d2",
   "metadata": {},
   "outputs": [
    {
     "name": "stdout",
     "output_type": "stream",
     "text": [
      "32 32\n"
     ]
    }
   ],
   "source": [
    "a = [np.abs(i-16)*(-1)**i for i in range(32)]\n",
    "m1 = [i.real for i in fast_multi(a,a)]\n",
    "m2 = elementry_multi(a,a)"
   ]
  },
  {
   "cell_type": "code",
   "execution_count": 15,
   "id": "94501bac",
   "metadata": {},
   "outputs": [],
   "source": [
    "p1 = np.poly1d(a) \n",
    "p2 = np.poly1d(a)\n",
    "mul = np.polymul(p2, p1)\n",
    "mul = list(mul)"
   ]
  },
  {
   "cell_type": "code",
   "execution_count": 16,
   "id": "fe857984",
   "metadata": {},
   "outputs": [
    {
     "data": {
      "text/plain": [
       "<matplotlib.collections.PathCollection at 0x1ecb6da1eb0>"
      ]
     },
     "execution_count": 16,
     "metadata": {},
     "output_type": "execute_result"
    },
    {
     "data": {
      "image/png": "[encoded data removed]",
      "text/plain": [
       "<Figure size 432x288 with 1 Axes>"
      ]
     },
     "metadata": {
      "needs_background": "light"
     },
     "output_type": "display_data"
    }
   ],
   "source": [
    "plt.scatter([i for i in range(len(mul))],mul)"
   ]
  },
  {
   "cell_type": "code",
   "execution_count": 17,
   "id": "592365b9",
   "metadata": {},
   "outputs": [
    {
     "data": {
      "text/plain": [
       "<matplotlib.collections.PathCollection at 0x1ecb6dfe7c0>"
      ]
     },
     "execution_count": 17,
     "metadata": {},
     "output_type": "execute_result"
    },
    {
     "data": {
      "image/png": "[encoded data removed]",
      "text/plain": [
       "<Figure size 432x288 with 1 Axes>"
      ]
     },
     "metadata": {
      "needs_background": "light"
     },
     "output_type": "display_data"
    }
   ],
   "source": [
    "plt.scatter([i for i in range(len(m1))],m1)"
   ]
  },
  {
   "cell_type": "code",
   "execution_count": 18,
   "id": "d0306fe9",
   "metadata": {},
   "outputs": [
    {
     "data": {
      "text/plain": [
       "<matplotlib.collections.PathCollection at 0x1ecb6e50d30>"
      ]
     },
     "execution_count": 18,
     "metadata": {},
     "output_type": "execute_result"
    },
    {
     "data": {
      "image/png": "[encoded data removed]",
      "text/plain": [
       "<Figure size 432x288 with 1 Axes>"
      ]
     },
     "metadata": {
      "needs_background": "light"
     },
     "output_type": "display_data"
    }
   ],
   "source": [
    "plt.scatter([i for i in range(len(m2))],m2)"
   ]
  },
  {
   "cell_type": "code",
   "execution_count": 22,
   "id": "6e7415f5",
   "metadata": {},
   "outputs": [],
   "source": [
    "def my_inv_dft(y):\n",
    "    \n",
    "    if bin(len(y))[2:].count('1')>1:\n",
    "        raise ValueError(\"must be power of 2\")\n",
    "    else:\n",
    "        N = len(y)\n",
    "        y = np.array(y)\n",
    "        y.reshape((N,1))\n",
    "        Winv = np.array([[np.exp(2j*np.pi*i*j/N)/N for j in range(N)] for i in range(N)])\n",
    "        A = np.matmul(Winv,y)\n",
    "        A = A.flatten()\n",
    "        return A"
   ]
  },
  {
   "cell_type": "code",
   "execution_count": 23,
   "id": "de569574",
   "metadata": {},
   "outputs": [],
   "source": [
    "def my_inv_fft(y):\n",
    "    if len(y) <= 4:\n",
    "        return my_inv_dft(y)\n",
    "    elif len(y)%2 != 0:\n",
    "        raise ValueError(\"must be a power of 2\")\n",
    "    else:\n",
    "        N = len(y)\n",
    "        w = np.exp(2j*np.pi/N)\n",
    "        ae = my_inv_dft(y[::2])\n",
    "        ao = my_inv_dft(y[1::2])\n",
    "        a = [0 for i in range(N)]\n",
    "        for i in range(N//2):\n",
    "            a[i] = (ae[i] + (w**i)*ao[i])/2\n",
    "            a[i+N//2] = (ae[i] - (w**i)*ao[i])/2\n",
    "        \n",
    "        return a\n",
    "        "
   ]
  },
  {
   "cell_type": "code",
   "execution_count": 24,
   "id": "b681adb4",
   "metadata": {},
   "outputs": [],
   "source": [
    "np.random.seed(5)\n",
    "A = np.random.random(16)\n",
    "y = np.fft.fft(A)\n",
    "ym = imp.fft(A)\n",
    "Ac = np.fft.ifft(y)\n",
    "Am = my_inv_dft(y)\n",
    "Am1 = my_inv_fft(y)\n",
    "Am2  = imp.inv_fft(y)"
   ]
  },
  {
   "cell_type": "code",
   "execution_count": 25,
   "id": "f1c76eb6",
   "metadata": {},
   "outputs": [
    {
     "name": "stderr",
     "output_type": "stream",
     "text": [
      "C:\\Users\\trsud\\anaconda3\\lib\\site-packages\\numpy\\core\\_asarray.py:171: ComplexWarning: Casting complex values to real discards the imaginary part\n",
      "  return array(a, dtype, copy=False, order=order, subok=True)\n"
     ]
    },
    {
     "data": {
      "text/plain": [
       "<matplotlib.collections.PathCollection at 0x1ecb6eba3d0>"
      ]
     },
     "execution_count": 25,
     "metadata": {},
     "output_type": "execute_result"
    },
    {
     "data": {
      "image/png": "[encoded data removed]",
      "text/plain": [
       "<Figure size 432x288 with 1 Axes>"
      ]
     },
     "metadata": {
      "needs_background": "light"
     },
     "output_type": "display_data"
    }
   ],
   "source": [
    "plt.scatter(Am1,Am)"
   ]
  },
  {
   "cell_type": "code",
   "execution_count": 26,
   "id": "e4e563ed",
   "metadata": {},
   "outputs": [
    {
     "name": "stdout",
     "output_type": "stream",
     "text": [
      "16 16\n"
     ]
    }
   ],
   "source": [
    "a1 = fast_multi(A,A)\n",
    "a2 = elementry_multi(A,A)"
   ]
  },
  {
   "cell_type": "code",
   "execution_count": 27,
   "id": "dea43010",
   "metadata": {},
   "outputs": [
    {
     "data": {
      "text/plain": [
       "32"
      ]
     },
     "execution_count": 27,
     "metadata": {},
     "output_type": "execute_result"
    }
   ],
   "source": [
    "len(a1)"
   ]
  },
  {
   "cell_type": "code",
   "execution_count": 28,
   "id": "9c92b00a",
   "metadata": {},
   "outputs": [
    {
     "data": {
      "text/plain": [
       "32"
      ]
     },
     "execution_count": 28,
     "metadata": {},
     "output_type": "execute_result"
    }
   ],
   "source": [
    "len(a2)"
   ]
  },
  {
   "cell_type": "code",
   "execution_count": 29,
   "id": "33a81ace",
   "metadata": {},
   "outputs": [
    {
     "data": {
      "text/plain": [
       "<matplotlib.collections.PathCollection at 0x1ecb6f0e4c0>"
      ]
     },
     "execution_count": 29,
     "metadata": {},
     "output_type": "execute_result"
    },
    {
     "data": {
      "image/png": "[encoded data removed]",
      "text/plain": [
       "<Figure size 432x288 with 1 Axes>"
      ]
     },
     "metadata": {
      "needs_background": "light"
     },
     "output_type": "display_data"
    }
   ],
   "source": [
    "plt.scatter(a1,a2)"
   ]
  },
  {
   "cell_type": "code",
   "execution_count": null,
   "id": "74cb46c7",
   "metadata": {},
   "outputs": [],
   "source": []
  },
  {
   "cell_type": "code",
   "execution_count": 30,
   "id": "bdb8798f",
   "metadata": {},
   "outputs": [],
   "source": [
    "N = 16\n",
    "w = np.exp(2j*np.pi/N)\n",
    "W = [[w**(i*j) for j in range(N)] for i in range(N)]\n",
    "W = np.array(W)\n",
    "Winv = [[w**(-i*j) for j in range(N)] for i in range(N)]\n",
    "Winv = np.array(Winv)\n",
    "A = np.random.random(8)\n",
    "B = np.random.random(8)\n",
    "A1 = np.concatenate((A,np.zeros(8)))\n",
    "B1 = np.concatenate((B,np.zeros(8)))\n",
    "y_A = np.matmul(W,A1)\n",
    "y_B = np.matmul(W,B1)\n",
    "y_C = y_A*y_B\n",
    "C = np.matmul(Winv,y_C)"
   ]
  },
  {
   "cell_type": "code",
   "execution_count": 31,
   "id": "1e92305c",
   "metadata": {},
   "outputs": [
    {
     "data": {
      "text/plain": [
       "array([ 2.17101533e+00,  2.50724821e+00,  5.07608085e+00,  1.16625785e+01,\n",
       "        1.70784395e+01,  1.98087904e+01,  2.33517951e+01,  2.42176063e+01,\n",
       "        1.76176579e+01,  1.32386059e+01,  1.12172780e+01,  6.82113849e+00,\n",
       "        1.74518791e+00,  1.03036693e+00,  8.29965984e-01, -8.88178420e-15])"
      ]
     },
     "execution_count": 31,
     "metadata": {},
     "output_type": "execute_result"
    }
   ],
   "source": [
    "C.real"
   ]
  },
  {
   "cell_type": "code",
   "execution_count": 32,
   "id": "8fce79cd",
   "metadata": {},
   "outputs": [
    {
     "name": "stdout",
     "output_type": "stream",
     "text": [
      "8 8\n"
     ]
    },
    {
     "data": {
      "text/plain": [
       "[0.13568845812110727,\n",
       " 0.15670301342962462,\n",
       " 0.31725505285134026,\n",
       " 0.7289111571733807,\n",
       " 1.0674024709917418,\n",
       " 1.2380494027667412,\n",
       " 1.4594871919447614,\n",
       " 1.5136003961434623,\n",
       " 1.101103619837415,\n",
       " 0.8274128686516289,\n",
       " 0.7010798749608274,\n",
       " 0.42632115538700643,\n",
       " 0.1090742441826254,\n",
       " 0.06439793321340317,\n",
       " 0.05187287398756846,\n",
       " 0]"
      ]
     },
     "execution_count": 32,
     "metadata": {},
     "output_type": "execute_result"
    }
   ],
   "source": [
    "elementry_multi(A,B)"
   ]
  },
  {
   "cell_type": "code",
   "execution_count": 33,
   "id": "9eab944d",
   "metadata": {},
   "outputs": [
    {
     "data": {
      "text/plain": [
       "8"
      ]
     },
     "execution_count": 33,
     "metadata": {},
     "output_type": "execute_result"
    }
   ],
   "source": [
    "len(B)"
   ]
  }
 ],
 "metadata": {
  "kernelspec": {
   "display_name": "Python 3",
   "language": "python",
   "name": "python3"
  },
  "language_info": {
   "codemirror_mode": {
    "name": "ipython",
    "version": 3
   },
   "file_extension": ".py",
   "mimetype": "text/x-python",
   "name": "python",
   "nbconvert_exporter": "python",
   "pygments_lexer": "ipython3",
   "version": "3.8.8"
  }
 },
 "nbformat": 4,
 "nbformat_minor": 5
}
